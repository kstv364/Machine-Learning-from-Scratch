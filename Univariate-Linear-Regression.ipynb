{
 "cells": [
  {
   "cell_type": "markdown",
   "metadata": {},
   "source": [
    "### Linear Regression\n",
    "The objective of linear regression is to minimize the cost function\n",
    "\n",
    "$J(\\theta) = \\frac{1}{2m} \\sum_{i=1}^{m} (h_\\theta(x^{(i)}) - y^{(i)})^2 $ (vectorial form $J(\\theta) = \\frac{1}{2m} (X\\theta - y)^T (X\\theta - y)$)\n",
    "\n",
    "where the hypothesis $h_\\theta$ is given by the linear model\n",
    "\n",
    "$$ h_\\theta = \\theta^T x = \\theta_0 + \\theta_1 x_1 $$\n",
    "The model's parameters are the $\\theta_j$ values. These are the values that need to be adjusted to minimize cost $J(\\theta)$. "
   ]
  },
  {
   "cell_type": "code",
   "execution_count": 7,
   "metadata": {},
   "outputs": [
    {
     "data": {
      "text/plain": [
       "array([[0.18590033, 0.91266619, 0.87831383],\n",
       "       [0.21737617, 0.79603508, 0.42536371],\n",
       "       [0.23001733, 0.3326651 , 0.7656912 ]])"
      ]
     },
     "execution_count": 7,
     "metadata": {},
     "output_type": "execute_result"
    }
   ],
   "source": [
    "import numpy as np\n",
    "np.random.rand(3,3)"
   ]
  },
  {
   "cell_type": "markdown",
   "metadata": {},
   "source": [
    "#### Create Dataset \n",
    "\n",
    "Here I am going for a univariate case to make visulaization simple. "
   ]
  },
  {
   "cell_type": "code",
   "execution_count": 8,
   "metadata": {},
   "outputs": [
    {
     "data": {
      "text/plain": [
       "array([13, 43, 43, 48, 43, 31, 35, 29, 43, 24,  9, 15,  6, 43, 17, 13, 20,\n",
       "       18, 22, 11, 10, 21, 33, 26,  8, 40, 34, 27, 14, 10, 31,  7, 20, 44,\n",
       "       36,  5, 47,  8, 17, 25, 33, 33,  7, 25, 12, 24,  7, 33, 19, 29])"
      ]
     },
     "execution_count": 8,
     "metadata": {},
     "output_type": "execute_result"
    }
   ],
   "source": [
    "X = np.random.randint(5,50,size=(50,))\n",
    "X"
   ]
  },
  {
   "cell_type": "code",
   "execution_count": 9,
   "metadata": {},
   "outputs": [],
   "source": [
    "y = 2*X\n",
    "for i in range(len(y)):\n",
    "    y[i]+= np.random.uniform(-5,5) # introducing variance to the y-values"
   ]
  },
  {
   "cell_type": "code",
   "execution_count": 10,
   "metadata": {},
   "outputs": [
    {
     "data": {
      "image/png": "[encoded data removed]",
      "text/plain": [
       "<Figure size 432x288 with 1 Axes>"
      ]
     },
     "metadata": {},
     "output_type": "display_data"
    }
   ],
   "source": [
    "import matplotlib.pyplot as plt\n",
    "plt.scatter(X,y)\n",
    "plt.xlabel('X')\n",
    "plt.ylabel('y')\n",
    "plt.show()"
   ]
  },
  {
   "cell_type": "markdown",
   "metadata": {},
   "source": [
    "## Algorithm for Linear regression\n",
    "\n",
    "\n",
    "Finding Theta using the Normal Equations¶\n",
    "It is possible to show that the same optimized parameters found implemenating Gradient Descent can be calculated in an elegant, efficient and closed form, using linear algebra. Specifically:\n",
    "\n",
    "$$\\theta = (X^T X)^{-1} X^Ty$$\n",
    "Using this formula does not require any feature scaling, and you will get an exact solution in one calculation: there is no \"loop until convergence\" like in gradient descent."
   ]
  },
  {
   "cell_type": "code",
   "execution_count": 11,
   "metadata": {},
   "outputs": [],
   "source": [
    "def normalEquation(X, y):\n",
    "    return np.dot(np.dot(np.linalg.inv(np.dot(X.transpose(), X)), X.transpose()), y)"
   ]
  },
  {
   "cell_type": "code",
   "execution_count": 12,
   "metadata": {},
   "outputs": [
    {
     "data": {
      "text/plain": [
       "array([25.66079696, 84.87802071, 84.87802071, 94.74755801, 84.87802071,\n",
       "       61.19113121, 69.08676105, 57.2433163 , 84.87802071, 47.373779  ,\n",
       "       17.76516713, 29.60861188, 11.84344475, 84.87802071, 33.55642679,\n",
       "       25.66079696, 39.47814917, 35.53033425, 43.42596409, 21.71298204,\n",
       "       19.73907458, 41.45205663, 65.13894613, 51.32159392, 15.79125967,\n",
       "       78.95629834, 67.11285359, 53.29550138, 27.63470442, 19.73907458,\n",
       "       61.19113121, 13.81735221, 39.47814917, 86.85192817, 71.0606685 ,\n",
       "        9.86953729, 92.77365055, 15.79125967, 33.55642679, 49.34768646,\n",
       "       65.13894613, 65.13894613, 13.81735221, 49.34768646, 23.6868895 ,\n",
       "       47.373779  , 13.81735221, 65.13894613, 37.50424171, 57.2433163 ])"
      ]
     },
     "execution_count": 12,
     "metadata": {},
     "output_type": "execute_result"
    }
   ],
   "source": [
    "W = normalEquation(X.reshape(50,1), y)\n",
    "fitline = np.dot(X.reshape(50,1),W)\n",
    "fitline "
   ]
  },
  {
   "cell_type": "code",
   "execution_count": 13,
   "metadata": {},
   "outputs": [
    {
     "data": {
      "image/png": "[encoded data removed]",
      "text/plain": [
       "<Figure size 432x288 with 1 Axes>"
      ]
     },
     "metadata": {},
     "output_type": "display_data"
    }
   ],
   "source": [
    "plt.scatter(X.reshape(50,),y)\n",
    "plt.plot(X.reshape(50,),fitline,c='r')\n",
    "plt.show()"
   ]
  },
  {
   "cell_type": "code",
   "execution_count": 17,
   "metadata": {},
   "outputs": [
    {
     "data": {
      "text/plain": [
       "8.471195439826582"
      ]
     },
     "execution_count": 17,
     "metadata": {},
     "output_type": "execute_result"
    }
   ],
   "source": [
    "MSE = np.linalg.norm(fitline - y)**2/len(X)\n",
    "MSE"
   ]
  }
 ],
 "metadata": {
  "kernelspec": {
   "display_name": "Python 3",
   "language": "python",
   "name": "python3"
  },
  "language_info": {
   "codemirror_mode": {
    "name": "ipython",
    "version": 3
   },
   "file_extension": ".py",
   "mimetype": "text/x-python",
   "name": "python",
   "nbconvert_exporter": "python",
   "pygments_lexer": "ipython3",
   "version": "3.6.5"
  }
 },
 "nbformat": 4,
 "nbformat_minor": 2
}
